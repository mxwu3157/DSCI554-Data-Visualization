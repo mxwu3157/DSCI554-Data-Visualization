{
 "cells": [
  {
   "cell_type": "markdown",
   "id": "0f48eea5",
   "metadata": {},
   "source": [
    "# a4 Jupyter notebook"
   ]
  },
  {
   "cell_type": "markdown",
   "id": "f776a53b",
   "metadata": {},
   "source": [
    "Meixian Wu <a href=\"mailto:meixianw@usc.edu\">meixianw@usc.edu</a>"
   ]
  },
  {
   "cell_type": "code",
   "execution_count": 3,
   "id": "2eefdbe7",
   "metadata": {},
   "outputs": [
    {
     "name": "stdout",
     "output_type": "stream",
     "text": [
      "/Users/meixianwu-i/Documents/School/DSCI553/a4-mxwu3157\r\n"
     ]
    }
   ],
   "source": [
    "!pwd"
   ]
  },
  {
   "cell_type": "code",
   "execution_count": 4,
   "id": "d4ef77d7",
   "metadata": {},
   "outputs": [],
   "source": [
    "import pandas as pd\n",
    "import numpy as np\n",
    "import matplotlib.pyplot as plt"
   ]
  },
  {
   "cell_type": "code",
   "execution_count": 5,
   "id": "c55a50fa",
   "metadata": {},
   "outputs": [
    {
     "data": {
      "text/html": [
       "<div>\n",
       "<style scoped>\n",
       "    .dataframe tbody tr th:only-of-type {\n",
       "        vertical-align: middle;\n",
       "    }\n",
       "\n",
       "    .dataframe tbody tr th {\n",
       "        vertical-align: top;\n",
       "    }\n",
       "\n",
       "    .dataframe thead th {\n",
       "        text-align: right;\n",
       "    }\n",
       "</style>\n",
       "<table border=\"1\" class=\"dataframe\">\n",
       "  <thead>\n",
       "    <tr style=\"text-align: right;\">\n",
       "      <th></th>\n",
       "      <th>Country</th>\n",
       "      <th>Year</th>\n",
       "      <th>Value</th>\n",
       "      <th>Value Footnotes</th>\n",
       "      <th>Unit</th>\n",
       "    </tr>\n",
       "  </thead>\n",
       "  <tbody>\n",
       "    <tr>\n",
       "      <th>0</th>\n",
       "      <td>France</td>\n",
       "      <td>1999</td>\n",
       "      <td>5.832247e+05</td>\n",
       "      <td>NaN</td>\n",
       "      <td>million cubic metres</td>\n",
       "    </tr>\n",
       "    <tr>\n",
       "      <th>1</th>\n",
       "      <td>Germany</td>\n",
       "      <td>1999</td>\n",
       "      <td>2.940000e+05</td>\n",
       "      <td>NaN</td>\n",
       "      <td>million cubic metres</td>\n",
       "    </tr>\n",
       "    <tr>\n",
       "      <th>2</th>\n",
       "      <td>Iraq</td>\n",
       "      <td>1999</td>\n",
       "      <td>7.822100e+04</td>\n",
       "      <td>NaN</td>\n",
       "      <td>million cubic metres</td>\n",
       "    </tr>\n",
       "    <tr>\n",
       "      <th>3</th>\n",
       "      <td>Maldives</td>\n",
       "      <td>1999</td>\n",
       "      <td>7.947600e+02</td>\n",
       "      <td>NaN</td>\n",
       "      <td>million cubic metres</td>\n",
       "    </tr>\n",
       "    <tr>\n",
       "      <th>4</th>\n",
       "      <td>Russian Federation</td>\n",
       "      <td>1999</td>\n",
       "      <td>9.761421e+06</td>\n",
       "      <td>NaN</td>\n",
       "      <td>million cubic metres</td>\n",
       "    </tr>\n",
       "  </tbody>\n",
       "</table>\n",
       "</div>"
      ],
      "text/plain": [
       "              Country  Year         Value  Value Footnotes  \\\n",
       "0              France  1999  5.832247e+05              NaN   \n",
       "1             Germany  1999  2.940000e+05              NaN   \n",
       "2                Iraq  1999  7.822100e+04              NaN   \n",
       "3            Maldives  1999  7.947600e+02              NaN   \n",
       "4  Russian Federation  1999  9.761421e+06              NaN   \n",
       "\n",
       "                   Unit  \n",
       "0  million cubic metres  \n",
       "1  million cubic metres  \n",
       "2  million cubic metres  \n",
       "3  million cubic metres  \n",
       "4  million cubic metres  "
      ]
     },
     "execution_count": 5,
     "metadata": {},
     "output_type": "execute_result"
    }
   ],
   "source": [
    "percipitation = pd.read_csv('datasets/precipitation1.csv')\n",
    "prec_india = percipitation[percipitation.Country == 'India']\n",
    "\n",
    "prec_india.head()"
   ]
  },
  {
   "cell_type": "code",
   "execution_count": 80,
   "id": "e4463490",
   "metadata": {},
   "outputs": [
    {
     "data": {
      "text/html": [
       "<div>\n",
       "<style scoped>\n",
       "    .dataframe tbody tr th:only-of-type {\n",
       "        vertical-align: middle;\n",
       "    }\n",
       "\n",
       "    .dataframe tbody tr th {\n",
       "        vertical-align: top;\n",
       "    }\n",
       "\n",
       "    .dataframe thead th {\n",
       "        text-align: right;\n",
       "    }\n",
       "</style>\n",
       "<table border=\"1\" class=\"dataframe\">\n",
       "  <thead>\n",
       "    <tr style=\"text-align: right;\">\n",
       "      <th></th>\n",
       "      <th>Year</th>\n",
       "      <th>Value</th>\n",
       "      <th>Value Footnotes</th>\n",
       "    </tr>\n",
       "  </thead>\n",
       "  <tbody>\n",
       "    <tr>\n",
       "      <th>count</th>\n",
       "      <td>10.00000</td>\n",
       "      <td>1.000000e+01</td>\n",
       "      <td>0.0</td>\n",
       "    </tr>\n",
       "    <tr>\n",
       "      <th>mean</th>\n",
       "      <td>2008.50000</td>\n",
       "      <td>3.728700e+06</td>\n",
       "      <td>NaN</td>\n",
       "    </tr>\n",
       "    <tr>\n",
       "      <th>std</th>\n",
       "      <td>3.02765</td>\n",
       "      <td>2.885466e+05</td>\n",
       "      <td>NaN</td>\n",
       "    </tr>\n",
       "    <tr>\n",
       "      <th>min</th>\n",
       "      <td>2004.00000</td>\n",
       "      <td>3.136000e+06</td>\n",
       "      <td>NaN</td>\n",
       "    </tr>\n",
       "    <tr>\n",
       "      <th>25%</th>\n",
       "      <td>2006.25000</td>\n",
       "      <td>3.594750e+06</td>\n",
       "      <td>NaN</td>\n",
       "    </tr>\n",
       "    <tr>\n",
       "      <th>50%</th>\n",
       "      <td>2008.50000</td>\n",
       "      <td>3.746500e+06</td>\n",
       "      <td>NaN</td>\n",
       "    </tr>\n",
       "    <tr>\n",
       "      <th>75%</th>\n",
       "      <td>2010.75000</td>\n",
       "      <td>3.962250e+06</td>\n",
       "      <td>NaN</td>\n",
       "    </tr>\n",
       "    <tr>\n",
       "      <th>max</th>\n",
       "      <td>2013.00000</td>\n",
       "      <td>4.085000e+06</td>\n",
       "      <td>NaN</td>\n",
       "    </tr>\n",
       "  </tbody>\n",
       "</table>\n",
       "</div>"
      ],
      "text/plain": [
       "             Year         Value  Value Footnotes\n",
       "count    10.00000  1.000000e+01              0.0\n",
       "mean   2008.50000  3.728700e+06              NaN\n",
       "std       3.02765  2.885466e+05              NaN\n",
       "min    2004.00000  3.136000e+06              NaN\n",
       "25%    2006.25000  3.594750e+06              NaN\n",
       "50%    2008.50000  3.746500e+06              NaN\n",
       "75%    2010.75000  3.962250e+06              NaN\n",
       "max    2013.00000  4.085000e+06              NaN"
      ]
     },
     "execution_count": 80,
     "metadata": {},
     "output_type": "execute_result"
    }
   ],
   "source": [
    "prec_india.describe()"
   ]
  },
  {
   "cell_type": "markdown",
   "id": "311322be",
   "metadata": {},
   "source": [
    "Loaded in the precipitation datasets, and choose the India subset. We found that the time range is 2004-2013."
   ]
  },
  {
   "cell_type": "code",
   "execution_count": 101,
   "id": "cb8dde6a",
   "metadata": {},
   "outputs": [
    {
     "data": {
      "text/html": [
       "<div>\n",
       "<style scoped>\n",
       "    .dataframe tbody tr th:only-of-type {\n",
       "        vertical-align: middle;\n",
       "    }\n",
       "\n",
       "    .dataframe tbody tr th {\n",
       "        vertical-align: top;\n",
       "    }\n",
       "\n",
       "    .dataframe thead th {\n",
       "        text-align: right;\n",
       "    }\n",
       "</style>\n",
       "<table border=\"1\" class=\"dataframe\">\n",
       "  <thead>\n",
       "    <tr style=\"text-align: right;\">\n",
       "      <th></th>\n",
       "      <th>Country</th>\n",
       "      <th>Element</th>\n",
       "      <th>Year</th>\n",
       "      <th>Unit</th>\n",
       "      <th>Value</th>\n",
       "      <th>Value Footnotes</th>\n",
       "    </tr>\n",
       "  </thead>\n",
       "  <tbody>\n",
       "    <tr>\n",
       "      <th>6</th>\n",
       "      <td>India</td>\n",
       "      <td>Gross Production Index Number (2014-2016 = 100)</td>\n",
       "      <td>2013</td>\n",
       "      <td>index</td>\n",
       "      <td>97.44</td>\n",
       "      <td>Fc</td>\n",
       "    </tr>\n",
       "    <tr>\n",
       "      <th>7</th>\n",
       "      <td>India</td>\n",
       "      <td>Gross Production Index Number (2014-2016 = 100)</td>\n",
       "      <td>2012</td>\n",
       "      <td>index</td>\n",
       "      <td>93.52</td>\n",
       "      <td>Fc</td>\n",
       "    </tr>\n",
       "    <tr>\n",
       "      <th>8</th>\n",
       "      <td>India</td>\n",
       "      <td>Gross Production Index Number (2014-2016 = 100)</td>\n",
       "      <td>2011</td>\n",
       "      <td>index</td>\n",
       "      <td>91.77</td>\n",
       "      <td>Fc</td>\n",
       "    </tr>\n",
       "    <tr>\n",
       "      <th>9</th>\n",
       "      <td>India</td>\n",
       "      <td>Gross Production Index Number (2014-2016 = 100)</td>\n",
       "      <td>2010</td>\n",
       "      <td>index</td>\n",
       "      <td>86.26</td>\n",
       "      <td>Fc</td>\n",
       "    </tr>\n",
       "    <tr>\n",
       "      <th>10</th>\n",
       "      <td>India</td>\n",
       "      <td>Gross Production Index Number (2014-2016 = 100)</td>\n",
       "      <td>2009</td>\n",
       "      <td>index</td>\n",
       "      <td>79.34</td>\n",
       "      <td>Fc</td>\n",
       "    </tr>\n",
       "  </tbody>\n",
       "</table>\n",
       "</div>"
      ],
      "text/plain": [
       "   Country                                          Element  Year   Unit  \\\n",
       "6    India  Gross Production Index Number (2014-2016 = 100)  2013  index   \n",
       "7    India  Gross Production Index Number (2014-2016 = 100)  2012  index   \n",
       "8    India  Gross Production Index Number (2014-2016 = 100)  2011  index   \n",
       "9    India  Gross Production Index Number (2014-2016 = 100)  2010  index   \n",
       "10   India  Gross Production Index Number (2014-2016 = 100)  2009  index   \n",
       "\n",
       "    Value Value Footnotes  \n",
       "6   97.44              Fc  \n",
       "7   93.52              Fc  \n",
       "8   91.77              Fc  \n",
       "9   86.26              Fc  \n",
       "10  79.34              Fc  "
      ]
     },
     "execution_count": 101,
     "metadata": {},
     "output_type": "execute_result"
    }
   ],
   "source": [
    "argri = pd.read_csv('datasets/agriculture.csv')\n",
    "argri = argri[(2004<=argri['Year']) & (argri['Year']<=2013)]\n",
    "argri.head()"
   ]
  },
  {
   "cell_type": "code",
   "execution_count": 98,
   "id": "e7e7ebf4",
   "metadata": {},
   "outputs": [
    {
     "name": "stdout",
     "output_type": "stream",
     "text": [
      "<class 'pandas.core.frame.DataFrame'>\n",
      "RangeIndex: 59 entries, 0 to 58\n",
      "Data columns (total 6 columns):\n",
      " #   Column           Non-Null Count  Dtype  \n",
      "---  ------           --------------  -----  \n",
      " 0   Country          59 non-null     object \n",
      " 1   Element          59 non-null     object \n",
      " 2   Year             59 non-null     int64  \n",
      " 3   Unit             59 non-null     object \n",
      " 4   Value            59 non-null     float64\n",
      " 5   Value Footnotes  59 non-null     object \n",
      "dtypes: float64(1), int64(1), object(4)\n",
      "memory usage: 2.9+ KB\n"
     ]
    }
   ],
   "source": [
    "argri.info()"
   ]
  },
  {
   "cell_type": "markdown",
   "id": "8c65aff2",
   "metadata": {},
   "source": [
    "Loaded in the Gross Production Index Number of the agriculture focus for India, and choose the India subset from 2004 to 2013. "
   ]
  },
  {
   "cell_type": "code",
   "execution_count": 102,
   "id": "4d505d7e",
   "metadata": {},
   "outputs": [
    {
     "data": {
      "text/html": [
       "<div>\n",
       "<style scoped>\n",
       "    .dataframe tbody tr th:only-of-type {\n",
       "        vertical-align: middle;\n",
       "    }\n",
       "\n",
       "    .dataframe tbody tr th {\n",
       "        vertical-align: top;\n",
       "    }\n",
       "\n",
       "    .dataframe thead th {\n",
       "        text-align: right;\n",
       "    }\n",
       "</style>\n",
       "<table border=\"1\" class=\"dataframe\">\n",
       "  <thead>\n",
       "    <tr style=\"text-align: right;\">\n",
       "      <th></th>\n",
       "      <th>Year</th>\n",
       "      <th>CSIRO Adjusted Sea Level</th>\n",
       "      <th>Lower Error Bound</th>\n",
       "      <th>Upper Error Bound</th>\n",
       "      <th>NOAA Adjusted Sea Level</th>\n",
       "    </tr>\n",
       "  </thead>\n",
       "  <tbody>\n",
       "    <tr>\n",
       "      <th>124</th>\n",
       "      <td>2004</td>\n",
       "      <td>7.740157</td>\n",
       "      <td>7.464567</td>\n",
       "      <td>8.015748</td>\n",
       "      <td>7.507933</td>\n",
       "    </tr>\n",
       "    <tr>\n",
       "      <th>125</th>\n",
       "      <td>2005</td>\n",
       "      <td>7.744094</td>\n",
       "      <td>7.472441</td>\n",
       "      <td>8.015748</td>\n",
       "      <td>7.644563</td>\n",
       "    </tr>\n",
       "    <tr>\n",
       "      <th>126</th>\n",
       "      <td>2006</td>\n",
       "      <td>7.917323</td>\n",
       "      <td>7.645669</td>\n",
       "      <td>8.188976</td>\n",
       "      <td>7.697420</td>\n",
       "    </tr>\n",
       "    <tr>\n",
       "      <th>127</th>\n",
       "      <td>2007</td>\n",
       "      <td>7.996063</td>\n",
       "      <td>7.712598</td>\n",
       "      <td>8.279528</td>\n",
       "      <td>7.702147</td>\n",
       "    </tr>\n",
       "    <tr>\n",
       "      <th>128</th>\n",
       "      <td>2008</td>\n",
       "      <td>8.350394</td>\n",
       "      <td>8.078740</td>\n",
       "      <td>8.622047</td>\n",
       "      <td>7.907365</td>\n",
       "    </tr>\n",
       "  </tbody>\n",
       "</table>\n",
       "</div>"
      ],
      "text/plain": [
       "     Year  CSIRO Adjusted Sea Level  Lower Error Bound  Upper Error Bound  \\\n",
       "124  2004                  7.740157           7.464567           8.015748   \n",
       "125  2005                  7.744094           7.472441           8.015748   \n",
       "126  2006                  7.917323           7.645669           8.188976   \n",
       "127  2007                  7.996063           7.712598           8.279528   \n",
       "128  2008                  8.350394           8.078740           8.622047   \n",
       "\n",
       "     NOAA Adjusted Sea Level  \n",
       "124                 7.507933  \n",
       "125                 7.644563  \n",
       "126                 7.697420  \n",
       "127                 7.702147  \n",
       "128                 7.907365  "
      ]
     },
     "execution_count": 102,
     "metadata": {},
     "output_type": "execute_result"
    }
   ],
   "source": [
    "sea_level = pd.read_csv('datasets/epa-sea-level_csv.csv')\n",
    "sea_level.Year = pd.to_datetime(sea_level.Year)\n",
    "sea_level.Year = pd.DatetimeIndex(sea_level['Year']).year\n",
    "sea_level = sea_level[(2004<=sea_level['Year']) & (sea_level['Year']<=2013)]\n",
    "sea_level.head()"
   ]
  },
  {
   "cell_type": "code",
   "execution_count": 103,
   "id": "e3fef918",
   "metadata": {},
   "outputs": [
    {
     "data": {
      "text/html": [
       "<div>\n",
       "<style scoped>\n",
       "    .dataframe tbody tr th:only-of-type {\n",
       "        vertical-align: middle;\n",
       "    }\n",
       "\n",
       "    .dataframe tbody tr th {\n",
       "        vertical-align: top;\n",
       "    }\n",
       "\n",
       "    .dataframe thead th {\n",
       "        text-align: right;\n",
       "    }\n",
       "</style>\n",
       "<table border=\"1\" class=\"dataframe\">\n",
       "  <thead>\n",
       "    <tr style=\"text-align: right;\">\n",
       "      <th></th>\n",
       "      <th>Year</th>\n",
       "      <th>CSIRO Adjusted Sea Level</th>\n",
       "      <th>Lower Error Bound</th>\n",
       "      <th>Upper Error Bound</th>\n",
       "      <th>NOAA Adjusted Sea Level</th>\n",
       "    </tr>\n",
       "  </thead>\n",
       "  <tbody>\n",
       "    <tr>\n",
       "      <th>count</th>\n",
       "      <td>10.00000</td>\n",
       "      <td>10.000000</td>\n",
       "      <td>10.000000</td>\n",
       "      <td>10.000000</td>\n",
       "      <td>10.000000</td>\n",
       "    </tr>\n",
       "    <tr>\n",
       "      <th>mean</th>\n",
       "      <td>2008.50000</td>\n",
       "      <td>8.450787</td>\n",
       "      <td>8.157874</td>\n",
       "      <td>8.743701</td>\n",
       "      <td>7.968553</td>\n",
       "    </tr>\n",
       "    <tr>\n",
       "      <th>std</th>\n",
       "      <td>3.02765</td>\n",
       "      <td>0.581112</td>\n",
       "      <td>0.559528</td>\n",
       "      <td>0.603445</td>\n",
       "      <td>0.345646</td>\n",
       "    </tr>\n",
       "    <tr>\n",
       "      <th>min</th>\n",
       "      <td>2004.00000</td>\n",
       "      <td>7.740157</td>\n",
       "      <td>7.464567</td>\n",
       "      <td>8.015748</td>\n",
       "      <td>7.507933</td>\n",
       "    </tr>\n",
       "    <tr>\n",
       "      <th>25%</th>\n",
       "      <td>2006.25000</td>\n",
       "      <td>7.937008</td>\n",
       "      <td>7.662402</td>\n",
       "      <td>8.211614</td>\n",
       "      <td>7.698602</td>\n",
       "    </tr>\n",
       "    <tr>\n",
       "      <th>50%</th>\n",
       "      <td>2008.50000</td>\n",
       "      <td>8.468504</td>\n",
       "      <td>8.194882</td>\n",
       "      <td>8.742126</td>\n",
       "      <td>7.976860</td>\n",
       "    </tr>\n",
       "    <tr>\n",
       "      <th>75%</th>\n",
       "      <td>2010.75000</td>\n",
       "      <td>8.948819</td>\n",
       "      <td>8.621063</td>\n",
       "      <td>9.247047</td>\n",
       "      <td>8.105496</td>\n",
       "    </tr>\n",
       "    <tr>\n",
       "      <th>max</th>\n",
       "      <td>2013.00000</td>\n",
       "      <td>9.326772</td>\n",
       "      <td>8.992126</td>\n",
       "      <td>9.661417</td>\n",
       "      <td>8.546648</td>\n",
       "    </tr>\n",
       "  </tbody>\n",
       "</table>\n",
       "</div>"
      ],
      "text/plain": [
       "             Year  CSIRO Adjusted Sea Level  Lower Error Bound  \\\n",
       "count    10.00000                 10.000000          10.000000   \n",
       "mean   2008.50000                  8.450787           8.157874   \n",
       "std       3.02765                  0.581112           0.559528   \n",
       "min    2004.00000                  7.740157           7.464567   \n",
       "25%    2006.25000                  7.937008           7.662402   \n",
       "50%    2008.50000                  8.468504           8.194882   \n",
       "75%    2010.75000                  8.948819           8.621063   \n",
       "max    2013.00000                  9.326772           8.992126   \n",
       "\n",
       "       Upper Error Bound  NOAA Adjusted Sea Level  \n",
       "count          10.000000                10.000000  \n",
       "mean            8.743701                 7.968553  \n",
       "std             0.603445                 0.345646  \n",
       "min             8.015748                 7.507933  \n",
       "25%             8.211614                 7.698602  \n",
       "50%             8.742126                 7.976860  \n",
       "75%             9.247047                 8.105496  \n",
       "max             9.661417                 8.546648  "
      ]
     },
     "execution_count": 103,
     "metadata": {},
     "output_type": "execute_result"
    }
   ],
   "source": [
    "sea_level.describe()"
   ]
  },
  {
   "cell_type": "markdown",
   "id": "d8dbfcab",
   "metadata": {},
   "source": [
    "Loaded in the dataset Global Average Absolute Sea Level Change, 1880-2014 from the US Environmental Protection Agency using data from CSIRO, 2015; NOAA, 2015. This data contains \"cumulative changes in sea level for the world’s oceans since 1880, based on a combination of long-term tide gauge measurements. Chose the subset from 2004 to 2013."
   ]
  },
  {
   "cell_type": "markdown",
   "id": "8935c89d",
   "metadata": {},
   "source": [
    "Then joined the three datasets on Year, and performed normalizations to make sure the are in same range. "
   ]
  },
  {
   "cell_type": "code",
   "execution_count": 121,
   "id": "d94b2bdc",
   "metadata": {},
   "outputs": [
    {
     "data": {
      "text/html": [
       "<div>\n",
       "<style scoped>\n",
       "    .dataframe tbody tr th:only-of-type {\n",
       "        vertical-align: middle;\n",
       "    }\n",
       "\n",
       "    .dataframe tbody tr th {\n",
       "        vertical-align: top;\n",
       "    }\n",
       "\n",
       "    .dataframe thead th {\n",
       "        text-align: right;\n",
       "    }\n",
       "</style>\n",
       "<table border=\"1\" class=\"dataframe\">\n",
       "  <thead>\n",
       "    <tr style=\"text-align: right;\">\n",
       "      <th></th>\n",
       "      <th>Year</th>\n",
       "      <th>agriculture_index</th>\n",
       "      <th>percipitation</th>\n",
       "      <th>sea_level</th>\n",
       "    </tr>\n",
       "  </thead>\n",
       "  <tbody>\n",
       "    <tr>\n",
       "      <th>2013</th>\n",
       "      <td>2013</td>\n",
       "      <td>1.000000</td>\n",
       "      <td>1.000000</td>\n",
       "      <td>0.781638</td>\n",
       "    </tr>\n",
       "    <tr>\n",
       "      <th>2012</th>\n",
       "      <td>2012</td>\n",
       "      <td>0.875119</td>\n",
       "      <td>0.348788</td>\n",
       "      <td>1.000000</td>\n",
       "    </tr>\n",
       "    <tr>\n",
       "      <th>2011</th>\n",
       "      <td>2011</td>\n",
       "      <td>0.819369</td>\n",
       "      <td>0.561644</td>\n",
       "      <td>0.771712</td>\n",
       "    </tr>\n",
       "    <tr>\n",
       "      <th>2010</th>\n",
       "      <td>2010</td>\n",
       "      <td>0.643836</td>\n",
       "      <td>0.898841</td>\n",
       "      <td>0.732010</td>\n",
       "    </tr>\n",
       "    <tr>\n",
       "      <th>2009</th>\n",
       "      <td>2009</td>\n",
       "      <td>0.423383</td>\n",
       "      <td>0.000000</td>\n",
       "      <td>0.533499</td>\n",
       "    </tr>\n",
       "    <tr>\n",
       "      <th>2008</th>\n",
       "      <td>2008</td>\n",
       "      <td>0.471169</td>\n",
       "      <td>0.566913</td>\n",
       "      <td>0.384615</td>\n",
       "    </tr>\n",
       "    <tr>\n",
       "      <th>2007</th>\n",
       "      <td>2007</td>\n",
       "      <td>0.440268</td>\n",
       "      <td>0.786091</td>\n",
       "      <td>0.161290</td>\n",
       "    </tr>\n",
       "    <tr>\n",
       "      <th>2006</th>\n",
       "      <td>2006</td>\n",
       "      <td>0.238292</td>\n",
       "      <td>0.719705</td>\n",
       "      <td>0.111663</td>\n",
       "    </tr>\n",
       "    <tr>\n",
       "      <th>2005</th>\n",
       "      <td>2005</td>\n",
       "      <td>0.115323</td>\n",
       "      <td>0.906217</td>\n",
       "      <td>0.002481</td>\n",
       "    </tr>\n",
       "    <tr>\n",
       "      <th>2004</th>\n",
       "      <td>2004</td>\n",
       "      <td>0.000000</td>\n",
       "      <td>0.457323</td>\n",
       "      <td>0.000000</td>\n",
       "    </tr>\n",
       "  </tbody>\n",
       "</table>\n",
       "</div>"
      ],
      "text/plain": [
       "      Year  agriculture_index  percipitation  sea_level\n",
       "2013  2013           1.000000       1.000000   0.781638\n",
       "2012  2012           0.875119       0.348788   1.000000\n",
       "2011  2011           0.819369       0.561644   0.771712\n",
       "2010  2010           0.643836       0.898841   0.732010\n",
       "2009  2009           0.423383       0.000000   0.533499\n",
       "2008  2008           0.471169       0.566913   0.384615\n",
       "2007  2007           0.440268       0.786091   0.161290\n",
       "2006  2006           0.238292       0.719705   0.111663\n",
       "2005  2005           0.115323       0.906217   0.002481\n",
       "2004  2004           0.000000       0.457323   0.000000"
      ]
     },
     "execution_count": 121,
     "metadata": {},
     "output_type": "execute_result"
    }
   ],
   "source": [
    "comb = argri[['Year','Value']].merge(prec_india[['Year','Value']], on  = 'Year' , how='inner')\n",
    "comb = comb.merge(sea_level[['Year','CSIRO Adjusted Sea Level']],on  = 'Year' , how='inner' )\n",
    "\n",
    "cols = ['Year','agriculture_index','percipitation','sea_level']\n",
    "years = list(comb.Year)\n",
    "comb.columns = cols\n",
    "comb.set_index('Year')\n",
    "\n",
    "from sklearn import preprocessing\n",
    "\n",
    "x = comb.values #returns a numpy array\n",
    "min_max_scaler = preprocessing.MinMaxScaler()\n",
    "x_scaled = min_max_scaler.fit_transform(x)\n",
    "comb = pd.DataFrame(x_scaled, columns = cols, index = years)\n",
    "comb['Year'] = years\n",
    "\n",
    "comb"
   ]
  },
  {
   "cell_type": "markdown",
   "id": "55d8e6be",
   "metadata": {},
   "source": [
    "## India statistical trends 2004-2013 (Agriculture GPI, Percipitation, and Sea Level)"
   ]
  },
  {
   "cell_type": "code",
   "execution_count": 126,
   "id": "4cb2bb92",
   "metadata": {},
   "outputs": [
    {
     "data": {
      "image/png": "[encoded data removed]",
      "text/plain": [
       "<Figure size 800x500 with 1 Axes>"
      ]
     },
     "metadata": {},
     "output_type": "display_data"
    }
   ],
   "source": [
    "plt.figure(figsize = (8, 5)) \n",
    "\n",
    "plt.plot(comb.Year, comb.agriculture_index, marker = '.', c = 'r', linestyle=':',  label=\"Agriculture GPI Index\")\n",
    "plt.plot(comb.Year, comb.percipitation, marker = '.', c = 'purple', linestyle=':',  label=\"Average Percipitation\")\n",
    "plt.plot(comb.Year, comb.sea_level, marker = '.', c = 'blue', linestyle=':',  label=\"CSIRO Adjusted Sea Level\")\n",
    "plt.xlabel('')\n",
    "plt.ylabel('Normalized Value')\n",
    "plt.title('India statistical trends 2004-2013')\n",
    "plt.legend(loc=\"lower right\")\n",
    "plt.show()"
   ]
  },
  {
   "cell_type": "markdown",
   "id": "4c2d4963",
   "metadata": {},
   "source": [
    "Explanation: From the previous plot, we have determined that precipitation play a important role in entire water resouces, therefore We wanted to sea that whether  rain fall correlated with the Agruiculture GPI more or the Sea level correlated with Agruiculture GPI more. We hypothesis that sea level is another important factor to explore as India has also lots of rivers located. From the multi-line plot, we can see that the sea level has much more correlated trend with the agriculture GPI, which means that precipitation did not played an important role in agriculture of India. The correlation of sea level comfirmed our hypothesis. It is worth digging down later in the project to see what make the precipitation unuseful for agriculture, technology or environmental issu?"
   ]
  },
  {
   "cell_type": "code",
   "execution_count": null,
   "id": "13b6c346",
   "metadata": {},
   "outputs": [],
   "source": []
  },
  {
   "cell_type": "markdown",
   "id": "e7da08ee",
   "metadata": {},
   "source": [
    "## Percentage of India Household accessible to safe drinking water"
   ]
  },
  {
   "cell_type": "code",
   "execution_count": 25,
   "id": "f1748d61",
   "metadata": {},
   "outputs": [
    {
     "data": {
      "text/html": [
       "<div>\n",
       "<style scoped>\n",
       "    .dataframe tbody tr th:only-of-type {\n",
       "        vertical-align: middle;\n",
       "    }\n",
       "\n",
       "    .dataframe tbody tr th {\n",
       "        vertical-align: top;\n",
       "    }\n",
       "\n",
       "    .dataframe thead th {\n",
       "        text-align: right;\n",
       "    }\n",
       "</style>\n",
       "<table border=\"1\" class=\"dataframe\">\n",
       "  <thead>\n",
       "    <tr style=\"text-align: right;\">\n",
       "      <th></th>\n",
       "      <th>Sl. No.\\n</th>\n",
       "      <th>Location\\n</th>\n",
       "      <th>Identification\\n</th>\n",
       "      <th>Source\\n</th>\n",
       "      <th>Depth, m\\n</th>\n",
       "      <th>Water Use\\n</th>\n",
       "      <th>Land Use/ Specific Activity\\n</th>\n",
       "      <th>City</th>\n",
       "    </tr>\n",
       "  </thead>\n",
       "  <tbody>\n",
       "    <tr>\n",
       "      <th>0</th>\n",
       "      <td>1</td>\n",
       "      <td>Sikandra\\n</td>\n",
       "      <td>Opp. Getwell Hospital\\n</td>\n",
       "      <td>HP\\n</td>\n",
       "      <td>18</td>\n",
       "      <td>Drinking\\n</td>\n",
       "      <td>Residential\\n</td>\n",
       "      <td>Arga</td>\n",
       "    </tr>\n",
       "    <tr>\n",
       "      <th>1</th>\n",
       "      <td>2</td>\n",
       "      <td>Khandari\\n</td>\n",
       "      <td>Police Chowki\\nCompound\\n</td>\n",
       "      <td>HP\\n</td>\n",
       "      <td>24</td>\n",
       "      <td>Cloth washing\\n</td>\n",
       "      <td>Residential\\n</td>\n",
       "      <td>Arga</td>\n",
       "    </tr>\n",
       "    <tr>\n",
       "      <th>2</th>\n",
       "      <td>3</td>\n",
       "      <td>Lohamandi\\n</td>\n",
       "      <td>Saiyad Para Ground\\n</td>\n",
       "      <td>HP\\n</td>\n",
       "      <td>30</td>\n",
       "      <td>Drinking\\n</td>\n",
       "      <td>Residential/ Slaughtering\\n</td>\n",
       "      <td>Arga</td>\n",
       "    </tr>\n",
       "    <tr>\n",
       "      <th>3</th>\n",
       "      <td>4</td>\n",
       "      <td>Shahganj\\n</td>\n",
       "      <td>Rui ki mandi Chauraha\\n</td>\n",
       "      <td>HP\\n</td>\n",
       "      <td>27</td>\n",
       "      <td>Drinking\\n</td>\n",
       "      <td>Residential\\n</td>\n",
       "      <td>Arga</td>\n",
       "    </tr>\n",
       "    <tr>\n",
       "      <th>4</th>\n",
       "      <td>5</td>\n",
       "      <td>Sultanpura\\n</td>\n",
       "      <td>Jiva Ram Temple\\n</td>\n",
       "      <td>HP\\n</td>\n",
       "      <td>27</td>\n",
       "      <td>Drinking\\n</td>\n",
       "      <td>Residential\\n</td>\n",
       "      <td>Arga</td>\n",
       "    </tr>\n",
       "  </tbody>\n",
       "</table>\n",
       "</div>"
      ],
      "text/plain": [
       "   Sl. No.\\n    Location\\n           Identification\\n Source\\n  Depth, m\\n  \\\n",
       "0          1    Sikandra\\n    Opp. Getwell Hospital\\n     HP\\n          18   \n",
       "1          2    Khandari\\n  Police Chowki\\nCompound\\n     HP\\n          24   \n",
       "2          3   Lohamandi\\n       Saiyad Para Ground\\n     HP\\n          30   \n",
       "3          4    Shahganj\\n    Rui ki mandi Chauraha\\n     HP\\n          27   \n",
       "4          5  Sultanpura\\n          Jiva Ram Temple\\n     HP\\n          27   \n",
       "\n",
       "       Water Use\\n Land Use/ Specific Activity\\n  City  \n",
       "0       Drinking\\n                 Residential\\n  Arga  \n",
       "1  Cloth washing\\n                 Residential\\n  Arga  \n",
       "2       Drinking\\n   Residential/ Slaughtering\\n  Arga  \n",
       "3       Drinking\\n                 Residential\\n  Arga  \n",
       "4       Drinking\\n                 Residential\\n  Arga  "
      ]
     },
     "execution_count": 25,
     "metadata": {},
     "output_type": "execute_result"
    }
   ],
   "source": [
    "gw_quality = pd.read_csv('datasets/undergroundwater_sampling_info.csv', )\n",
    "gw_quality.head()"
   ]
  },
  {
   "cell_type": "code",
   "execution_count": 58,
   "id": "ff439c39",
   "metadata": {},
   "outputs": [
    {
     "data": {
      "text/plain": [
       "array(['Arga', 'Meerut', 'Coimbatore', 'Chennai', 'Madurai', 'Vijaywada'],\n",
       "      dtype=object)"
      ]
     },
     "execution_count": 58,
     "metadata": {},
     "output_type": "execute_result"
    }
   ],
   "source": [
    "gw_quality.City.unique()"
   ]
  },
  {
   "cell_type": "code",
   "execution_count": 130,
   "id": "6dad3b30",
   "metadata": {},
   "outputs": [
    {
     "data": {
      "text/html": [
       "<div>\n",
       "<style scoped>\n",
       "    .dataframe tbody tr th:only-of-type {\n",
       "        vertical-align: middle;\n",
       "    }\n",
       "\n",
       "    .dataframe tbody tr th {\n",
       "        vertical-align: top;\n",
       "    }\n",
       "\n",
       "    .dataframe thead th {\n",
       "        text-align: right;\n",
       "    }\n",
       "</style>\n",
       "<table border=\"1\" class=\"dataframe\">\n",
       "  <thead>\n",
       "    <tr style=\"text-align: right;\">\n",
       "      <th></th>\n",
       "      <th>S. N.</th>\n",
       "      <th>States</th>\n",
       "      <th>Total</th>\n",
       "      <th>Rural</th>\n",
       "      <th>Urban</th>\n",
       "    </tr>\n",
       "  </thead>\n",
       "  <tbody>\n",
       "    <tr>\n",
       "      <th>0</th>\n",
       "      <td>1</td>\n",
       "      <td>Andaman &amp; Nicobar Islands</td>\n",
       "      <td>76.7</td>\n",
       "      <td>66.8</td>\n",
       "      <td>97.8</td>\n",
       "    </tr>\n",
       "    <tr>\n",
       "      <th>1</th>\n",
       "      <td>2</td>\n",
       "      <td>Andhra Pradesh</td>\n",
       "      <td>80.1</td>\n",
       "      <td>76.9</td>\n",
       "      <td>90.2</td>\n",
       "    </tr>\n",
       "    <tr>\n",
       "      <th>2</th>\n",
       "      <td>3</td>\n",
       "      <td>Arunachal Pradesh</td>\n",
       "      <td>77.5</td>\n",
       "      <td>73.7</td>\n",
       "      <td>90.7</td>\n",
       "    </tr>\n",
       "    <tr>\n",
       "      <th>3</th>\n",
       "      <td>4</td>\n",
       "      <td>Assam</td>\n",
       "      <td>58.8</td>\n",
       "      <td>56.8</td>\n",
       "      <td>70.4</td>\n",
       "    </tr>\n",
       "    <tr>\n",
       "      <th>4</th>\n",
       "      <td>5</td>\n",
       "      <td>Bihar</td>\n",
       "      <td>86.6</td>\n",
       "      <td>86.1</td>\n",
       "      <td>91.2</td>\n",
       "    </tr>\n",
       "  </tbody>\n",
       "</table>\n",
       "</div>"
      ],
      "text/plain": [
       "   S. N.                     States  Total  Rural  Urban\n",
       "0      1  Andaman & Nicobar Islands   76.7   66.8   97.8\n",
       "1      2             Andhra Pradesh   80.1   76.9   90.2\n",
       "2      3          Arunachal Pradesh   77.5   73.7   90.7\n",
       "3      4                      Assam   58.8   56.8   70.4\n",
       "4      5                      Bihar   86.6   86.1   91.2"
      ]
     },
     "execution_count": 130,
     "metadata": {},
     "output_type": "execute_result"
    }
   ],
   "source": [
    "drinking_water = pd.read_csv('datasets/access_to_safe_drinking_water_in_households_in_india.csv')\n",
    "drinking_water.head()"
   ]
  },
  {
   "cell_type": "code",
   "execution_count": 31,
   "id": "f98010b2",
   "metadata": {},
   "outputs": [],
   "source": [
    "import seaborn as sns"
   ]
  },
  {
   "cell_type": "code",
   "execution_count": 141,
   "id": "f5004e64",
   "metadata": {},
   "outputs": [
    {
     "data": {
      "text/plain": [
       "Text(0.5, 1.0, 'Percentage of India Household accessible to safe drinking water in 2001')"
      ]
     },
     "execution_count": 141,
     "metadata": {},
     "output_type": "execute_result"
    },
    {
     "data": {
      "image/png": "[encoded data removed]",
      "text/plain": [
       "<Figure size 640x480 with 1 Axes>"
      ]
     },
     "metadata": {},
     "output_type": "display_data"
    }
   ],
   "source": [
    "sns.histplot(data=drinking_water, x=\"Rural\", kde=True, bins=10, label='Rural')\n",
    "sns.histplot(data=drinking_water, x=\"Urban\", kde=True, bins=10, label='Urban')\n",
    "plt.legend(['Rural','Urban'])\n",
    "plt.xlabel('percentage' )\n",
    "plt.title('Percentage of India Household accessible to safe drinking water in 2001')"
   ]
  },
  {
   "cell_type": "markdown",
   "id": "370feb5d",
   "metadata": {},
   "source": [
    "The dataset used is the percentage of the India household with accessible to safe drinkng water in 2001. The overlayed histogram of Rural area and Urban area shown the distribution of the percentage respectively. We can see that Over half of the states has nearly over 90% of safe drinking water coverage, averaged around 95%. But for Rural area, the mean is located around 75% coverage. This means that there is slightly a imbalance of water supply between rural and urban area. We will explore the correlation later in observable notebook"
   ]
  },
  {
   "cell_type": "markdown",
   "id": "8f0f7053",
   "metadata": {},
   "source": [
    "## Percentage of India Household accessible to safe drinking water By Decade"
   ]
  },
  {
   "cell_type": "code",
   "execution_count": 144,
   "id": "3eed6ba9",
   "metadata": {},
   "outputs": [
    {
     "data": {
      "text/html": [
       "<div>\n",
       "<style scoped>\n",
       "    .dataframe tbody tr th:only-of-type {\n",
       "        vertical-align: middle;\n",
       "    }\n",
       "\n",
       "    .dataframe tbody tr th {\n",
       "        vertical-align: top;\n",
       "    }\n",
       "\n",
       "    .dataframe thead th {\n",
       "        text-align: right;\n",
       "    }\n",
       "</style>\n",
       "<table border=\"1\" class=\"dataframe\">\n",
       "  <thead>\n",
       "    <tr style=\"text-align: right;\">\n",
       "      <th></th>\n",
       "      <th>States</th>\n",
       "      <th>Decade</th>\n",
       "      <th>Value</th>\n",
       "    </tr>\n",
       "  </thead>\n",
       "  <tbody>\n",
       "    <tr>\n",
       "      <th>0</th>\n",
       "      <td>Andaman &amp; Nicobar Islands</td>\n",
       "      <td>2001 (Sum)</td>\n",
       "      <td>76.7</td>\n",
       "    </tr>\n",
       "    <tr>\n",
       "      <th>1</th>\n",
       "      <td>Andaman &amp; Nicobar Islands</td>\n",
       "      <td>1991 (Sum)</td>\n",
       "      <td>67.9</td>\n",
       "    </tr>\n",
       "    <tr>\n",
       "      <th>2</th>\n",
       "      <td>Andaman &amp; Nicobar Islands</td>\n",
       "      <td>1981 (Sum)</td>\n",
       "      <td>51.6</td>\n",
       "    </tr>\n",
       "    <tr>\n",
       "      <th>3</th>\n",
       "      <td>Andhra Pradesh</td>\n",
       "      <td>2001 (Sum)</td>\n",
       "      <td>80.1</td>\n",
       "    </tr>\n",
       "    <tr>\n",
       "      <th>4</th>\n",
       "      <td>Andhra Pradesh</td>\n",
       "      <td>1991 (Sum)</td>\n",
       "      <td>55.1</td>\n",
       "    </tr>\n",
       "  </tbody>\n",
       "</table>\n",
       "</div>"
      ],
      "text/plain": [
       "                      States      Decade  Value\n",
       "0  Andaman & Nicobar Islands  2001 (Sum)   76.7\n",
       "1  Andaman & Nicobar Islands  1991 (Sum)   67.9\n",
       "2  Andaman & Nicobar Islands  1981 (Sum)   51.6\n",
       "3             Andhra Pradesh  2001 (Sum)   80.1\n",
       "4             Andhra Pradesh  1991 (Sum)   55.1"
      ]
     },
     "execution_count": 144,
     "metadata": {},
     "output_type": "execute_result"
    }
   ],
   "source": [
    "drinking_water_decade = pd.read_csv('datasets/drinking_water_by_decade.csv')\n",
    "drinking_water_decade.head()"
   ]
  },
  {
   "cell_type": "code",
   "execution_count": 146,
   "id": "b4b29c22",
   "metadata": {},
   "outputs": [
    {
     "data": {
      "text/plain": [
       "Text(0.5, 1.0, 'Percentage of India Household accessible to safe drinking water By Decade')"
      ]
     },
     "execution_count": 146,
     "metadata": {},
     "output_type": "execute_result"
    },
    {
     "data": {
      "image/png": "[encoded data removed]",
      "text/plain": [
       "<Figure size 640x480 with 1 Axes>"
      ]
     },
     "metadata": {},
     "output_type": "display_data"
    }
   ],
   "source": [
    "sns.boxplot(x='Decade', y='Value', data=drinking_water_decade)\n",
    "plt.ylabel('percentage' )\n",
    "plt.title('Percentage of India Household accessible to safe drinking water By Decade')"
   ]
  },
  {
   "cell_type": "markdown",
   "id": "739812ed",
   "metadata": {},
   "source": [
    "We unpivot the water coverage dataset and get the total percentage of each states in the three decades 2001, 1991, and 1981. The boxplot shown that there is a significant increase in the safe drinking water coverage from 1981 to 2001. There is a significant improvment in the low development area, as the first quartile of 1991 and 1981 were located at 0%, yet in 2001, the first quartile boosted to nearly 40%, which is a big increase. The gap of water coverage between different areas under different development stage are getting closer, seen from the box height.  "
   ]
  },
  {
   "cell_type": "code",
   "execution_count": null,
   "id": "2092b664",
   "metadata": {},
   "outputs": [],
   "source": []
  }
 ],
 "metadata": {
  "kernelspec": {
   "display_name": "Python 3 (ipykernel)",
   "language": "python",
   "name": "python3"
  },
  "language_info": {
   "codemirror_mode": {
    "name": "ipython",
    "version": 3
   },
   "file_extension": ".py",
   "mimetype": "text/x-python",
   "name": "python",
   "nbconvert_exporter": "python",
   "pygments_lexer": "ipython3",
   "version": "3.10.7"
  }
 },
 "nbformat": 4,
 "nbformat_minor": 5
}
